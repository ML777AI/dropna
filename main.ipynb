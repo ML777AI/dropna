def df_edit(df):
    if not df:
        return print('df_edit() - err - wrong df...')
    cols_nans = ['1', '2', '3']
    rows_nans = ['1', '2']
    df.dropna(subset=rows_nans, inplace=True)
